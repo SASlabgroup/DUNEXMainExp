{
 "cells": [
  {
   "cell_type": "markdown",
   "source": [
    "<h1>Cross Shore Acceleration Distribution Test Function</h1>"
   ],
   "metadata": {}
  },
  {
   "cell_type": "code",
   "execution_count": 2,
   "source": [
    "import numpy as np\n",
    "import matplotlib.pyplot as plt\n",
    "import netCDF4 as nc"
   ],
   "outputs": [],
   "metadata": {}
  },
  {
   "cell_type": "code",
   "execution_count": 19,
   "source": [
    "# Get Mission 21 netCDF file\n",
    "# Mission 1 netCDF path\n",
    "mission_nc_path = '../microSWIFT_data/mission_21/mission_21.nc'\n",
    "\n",
    "# Load in netCDF file as a dataset\n",
    "mission_dataset = nc.Dataset(mission_nc_path, mode='r')\n",
    "\n",
    "# Define minimum cross shore locations \n",
    "min_x = 150 # Minimum Cross Shore location \n",
    "\n",
    "# Define Maximum cross shore location based on furthest offshore deployed \n",
    "microSWIFTs_on_mission = list(mission_dataset.groups.keys())\n",
    "\n",
    "# Sort maximum x location\n",
    "initial_values_set = False\n",
    "while initial_values_set == False:\n",
    "    for microSWIFT in microSWIFTs_on_mission:\n",
    "        if 'GPS' in list(mission_dataset[microSWIFT].groups.keys()):\n",
    "            if 'x_frf' in list(mission_dataset[microSWIFT]['GPS'].variables):\n",
    "                # Set initial time labels\n",
    "                max_x = np.max(mission_dataset[microSWIFT]['GPS']['x_frf'])\n",
    "                initial_values_set = True\n",
    "            else:\n",
    "                continue\n",
    "        else:\n",
    "            continue\n",
    "\n",
    "# Compute maximum x location\n",
    "for microSWIFT in microSWIFTs_on_mission:\n",
    "    if 'GPS' in list(mission_dataset[microSWIFT].groups.keys()):\n",
    "        if 'x_frf' in list(mission_dataset[microSWIFT]['GPS'].variables):\n",
    "            if np.max(mission_dataset[microSWIFT]['GPS']['x_frf']) > max_x:\n",
    "                max_x = np.max(mission_dataset[microSWIFT]['GPS']['x_frf'])\n",
    "            else:\n",
    "                continue\n",
    "\n",
    "# Create Cross Shore bin array\n",
    "bin_width = 5 # Width of cross shore bins, units are meters\n",
    "num_bins = int((max_x - min_x)/ bin_width)\n",
    "cross_shore_bin_edges = np.linspace(min_x, max_x, num_bins)\n",
    "\n",
    "# Sort values between adjacent cross-shore bin edges\n",
    "# Compute maximum x location\n",
    "# for microSWIFT in microSWIFTs_on_mission:\n",
    "#     if 'GPS' in list(mission_dataset[microSWIFT].groups.keys()):\n",
    "#         if 'x_frf' in list(mission_dataset[microSWIFT]['GPS'].variables):       \n",
    "#             s = sorted(mission_dataset[microSWIFT]['GPS']['x_frf'], key = lambda x: (cross_shore_bin_edges[0], cross_shore_bin_edges[1]))\n",
    "\n",
    "s = np.digitize(mission_dataset['microSWIFT_2']['GPS']['x_frf'], cross_shore_bin_edges, right=True)"
   ],
   "outputs": [],
   "metadata": {}
  },
  {
   "cell_type": "code",
   "execution_count": null,
   "source": [],
   "outputs": [],
   "metadata": {}
  },
  {
   "cell_type": "code",
   "execution_count": null,
   "source": [],
   "outputs": [],
   "metadata": {}
  }
 ],
 "metadata": {
  "orig_nbformat": 4,
  "language_info": {
   "name": "python",
   "version": "3.9.7",
   "mimetype": "text/x-python",
   "codemirror_mode": {
    "name": "ipython",
    "version": 3
   },
   "pygments_lexer": "ipython3",
   "nbconvert_exporter": "python",
   "file_extension": ".py"
  },
  "kernelspec": {
   "name": "python3",
   "display_name": "Python 3.9.7 64-bit ('.dunex-venv': venv)"
  },
  "interpreter": {
   "hash": "6fc8e9bd471c4a4954602051aa8828a844db5f384605393c212372ff8504dd1c"
  }
 },
 "nbformat": 4,
 "nbformat_minor": 2
}