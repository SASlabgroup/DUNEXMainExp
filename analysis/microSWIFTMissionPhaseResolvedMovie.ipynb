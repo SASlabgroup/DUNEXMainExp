{
 "cells": [
  {
   "cell_type": "markdown",
   "metadata": {},
   "source": [
    "<h1>Mission Phase Resolved Movie</h1>"
   ]
  },
  {
   "cell_type": "code",
   "execution_count": 1,
   "metadata": {},
   "outputs": [],
   "source": [
    "import numpy as np\n",
    "import matplotlib.pyplot as plt\n",
    "from scipy import integrate\n",
    "from scipy import signal\n",
    "from scipy import interpolate\n",
    "from scipy import optimize\n",
    "from scipy import io\n",
    "import cftime\n",
    "import netCDF4 as nc\n",
    "import pickle\n",
    "import glob\n",
    "import scipy.stats as st\n",
    "from PyAstronomy import pyaC\n",
    "import cmocean\n",
    "import cftime\n",
    "from scipy.stats import gaussian_kde\n",
    "import scipy.stats\n",
    "import matplotlib.animation as animation\n",
    "%matplotlib widget"
   ]
  },
  {
   "cell_type": "code",
   "execution_count": 2,
   "metadata": {},
   "outputs": [
    {
     "name": "stdout",
     "output_type": "stream",
     "text": [
      "15121\n"
     ]
    }
   ],
   "source": [
    "# Import Data from Mission 15\n",
    "mission_dataset = nc.Dataset('../microSWIFT_data/cleanedDataset/mission_15.nc')\n",
    "\n",
    "# Scatter the Cross Shore Location with the sea surface elevation for each time step for each microSWIFT\n",
    "microSWIFTs_on_mission = list(mission_dataset.groups.keys())\n",
    "\n",
    "# Plot the sea surface elevation as a function of cross shore location \n",
    "fig = plt.figure()\n",
    "ax1 = plt.subplot(2,1,1)\n",
    "ax2 = plt.subplot(2,1,2)\n",
    "\n",
    "  # Add the FRF Bathymetry to the map \n",
    "# Data from September 28th, 2021\n",
    "# bathy_url = 'https://chlthredds.erdc.dren.mil/thredds/dodsC/frf/geomorphology/DEMs/surveyDEM/data/FRF_geomorphology_DEMs_surveyDEM_20210928.nc'\n",
    "bathy_file = '../microSWIFT_data/FRFdata/FRF_geomorphology_DEMs_surveyDEM_20211021.nc'\n",
    "bathy_dataset = nc.Dataset(bathy_file)\n",
    "# Create grid from coordinates\n",
    "xFRF_grid, yFRF_grid = np.meshgrid(bathy_dataset['xFRF'][:],bathy_dataset['yFRF'][:])\n",
    "bathy = bathy_dataset['elevation'][0,:,:]\n",
    "\n",
    "# Fixed Instrument Locations\n",
    "awac4p5m_location = [397.35, 890.98] # Converted from lat lon locations published on FRF data portal\n",
    "awac6m_location = [603.12, 886.68]   # Converted from lat lon locations published on FRF data portal\n",
    "array8m_location = [914.05, 826.08]  # Nominal location based on published data even though this array has multiple locations\n",
    "\n",
    "def init_scatter():\n",
    "        ax1.clear()\n",
    "        ax1.set_xlabel('FRF X Location [meters]')\n",
    "        ax1.set_ylabel('Sea Surface Elevation[meters]')\n",
    "        ax2.set_xlabel('FRF X Location [meters]')\n",
    "        ax2.set_ylabel('FRF Y Location [meters]')\n",
    "        im = ax2.contourf(xFRF_grid, yFRF_grid, bathy, cmap=cmocean.cm.deep_r)\n",
    "        for microSWIFT in microSWIFTs_on_mission:\n",
    "                eta = mission_dataset[microSWIFT]['eta'][6000] \n",
    "                y = mission_dataset[microSWIFT]['yFRF'][6000]\n",
    "                x = mission_dataset[microSWIFT]['xFRF'][6000]\n",
    "                ax1.scatter(x, eta, color='r')\n",
    "                ax2.scatter(x, y, color='r')\n",
    "\n",
    "def update_scatter(index):\n",
    "        ax1.clear()\n",
    "        ax2.clear()\n",
    "        ax1.set_xlabel('FRF X Location [meters]')\n",
    "        ax1.set_ylabel('Sea Surface Elevation[meters]')\n",
    "        ax2.set_xlabel('FRF X Location [meters]')\n",
    "        ax2.set_ylabel('FRF Y Location [meters]')\n",
    "       \n",
    "        # Get list of all microSWIFTs on the mission\n",
    "        x_loc = []\n",
    "        eta_loc = []\n",
    "        im = ax2.contourf(xFRF_grid, yFRF_grid, bathy, cmap=cmocean.cm.deep_r)\n",
    "        for microSWIFT in microSWIFTs_on_mission:\n",
    "                ax1.plot(mission_dataset[microSWIFT]['xFRF'][index], mission_dataset[microSWIFT]['eta'][index], color='r', marker='o')\n",
    "                ax2.plot(mission_dataset[microSWIFT]['xFRF'][index], mission_dataset[microSWIFT]['yFRF'][index], color='r', marker='o')\n",
    "                ax1.set_xlim(200, 350)\n",
    "                ax1.set_ylim(-4, 4)\n",
    "                ax2.set_xlim(200, 350)\n",
    "                ax2.set_ylim(0, 400)\n",
    "                x_loc.append(mission_dataset[microSWIFT]['xFRF'][index])\n",
    "                eta_loc.append(mission_dataset[microSWIFT]['eta'][index])\n",
    "\n",
    "        # Plot the surface elevation from the buoys\n",
    "        x_loc = np.array(x_loc)\n",
    "        eta_loc = np.array(eta_loc)\n",
    "        inds = np.argsort(x_loc)\n",
    "        x_loc_sort = x_loc[inds]\n",
    "        eta_loc_sort = eta_loc[inds]\n",
    "        x_array = np.linspace(np.min(x_loc), np.max(x_loc))\n",
    "        eta_interp_func = interpolate.interp1d(x_loc, eta_loc)\n",
    "        num = 500\n",
    "        x_array = np.linspace(np.nanmin(x_loc), np.nanmax(x_loc), 500)\n",
    "        eta_interped = eta_interp_func(x_array)\n",
    "        ax1.plot(x_array, eta_interped)\n",
    "\n",
    "        # Add title with time\n",
    "        time = cftime.num2pydate(mission_dataset['time'][index], units=mission_dataset['time'].units, calendar=mission_dataset['time'].calendar)\n",
    "        ax1.set_title('Time - {}'.format(time))\n",
    "        fig.tight_layout()\n",
    "\n",
    "# Create Animation object\n",
    "data_skip = 1\n",
    "time = mission_dataset['time'][:]\n",
    "print(time.size)\n",
    "anim = animation.FuncAnimation(fig, update_scatter, frames=np.arange(11000, 12000, data_skip), init_func=init_scatter)\n",
    "anim.save('./MissionPhaseResolved.gif', dpi=150, fps=12, writer='pillow')\n",
    "\n",
    "# Close dataset and figures\n",
    "mission_dataset.close()\n",
    "plt.close()"
   ]
  },
  {
   "cell_type": "code",
   "execution_count": null,
   "metadata": {},
   "outputs": [],
   "source": []
  }
 ],
 "metadata": {
  "kernelspec": {
   "display_name": "Python 3.9.5 ('.dunex-venv': venv)",
   "language": "python",
   "name": "python3"
  },
  "language_info": {
   "codemirror_mode": {
    "name": "ipython",
    "version": 3
   },
   "file_extension": ".py",
   "mimetype": "text/x-python",
   "name": "python",
   "nbconvert_exporter": "python",
   "pygments_lexer": "ipython3",
   "version": "3.9.5"
  },
  "orig_nbformat": 4,
  "vscode": {
   "interpreter": {
    "hash": "21ead43a5f863d30e1329d4a65edabea30e4bd30ad13065e72395964c47c63fb"
   }
  }
 },
 "nbformat": 4,
 "nbformat_minor": 2
}
