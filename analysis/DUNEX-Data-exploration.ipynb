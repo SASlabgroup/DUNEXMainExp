{
 "cells": [
  {
   "cell_type": "markdown",
   "source": [
    "<h1>DUNEX Data Exploration Notebook </h1>\n",
    "Written By: EJ Rainville, Fall 2021"
   ],
   "metadata": {}
  },
  {
   "cell_type": "code",
   "execution_count": 4,
   "source": [
    "# Import Modules\n",
    "import numpy as np\n",
    "import pandas as pd\n",
    "import matplotlib.pyplot as plt\n",
    "import netCDF4 as nc\n",
    "from scipy import signal\n",
    "from scipy import fft\n",
    "import cftime\n",
    "import sys\n",
    "\n",
    "# Import DUNEX Tools\n",
    "sys.path.insert(1, '../tools/')\n",
    "# import microSWIFTTools\n",
    "%matplotlib widget"
   ],
   "outputs": [],
   "metadata": {}
  },
  {
   "cell_type": "markdown",
   "source": [
    "<h2>Analysis of Mission 0</h2>"
   ],
   "metadata": {}
  },
  {
   "cell_type": "code",
   "execution_count": 5,
   "source": [
    "# Import data from mission netCDF\n",
    "nc_file_name = '../microSWIFT_data/mission_0/mission_0.nc'\n",
    "mission_0_dataset = nc.Dataset(nc_file_name, mode='r')\n",
    "print(mission_0_dataset)\n",
    "microSWIFTs_on_mission = list(mission_0_dataset.groups.keys())\n",
    "print(microSWIFTs_on_mission)"
   ],
   "outputs": [
    {
     "output_type": "stream",
     "name": "stdout",
     "text": [
      "<class 'netCDF4._netCDF4.Dataset'>\n",
      "root group (NETCDF4 data model, file format HDF5):\n",
      "    dimensions(sizes): \n",
      "    variables(dimensions): \n",
      "    groups: microSWIFT_25, microSWIFT_41, microSWIFT_31, microSWIFT_21, microSWIFT_11, microSWIFT_32\n",
      "['microSWIFT_25', 'microSWIFT_41', 'microSWIFT_31', 'microSWIFT_21', 'microSWIFT_11', 'microSWIFT_32']\n"
     ]
    }
   ],
   "metadata": {}
  },
  {
   "cell_type": "code",
   "execution_count": null,
   "source": [],
   "outputs": [],
   "metadata": {}
  }
 ],
 "metadata": {
  "interpreter": {
   "hash": "3f24309fa4ccd1885939d6bd9da5dca00aef9964350192d7e2751f4ca36c26c0"
  },
  "kernelspec": {
   "name": "python3",
   "display_name": "Python 3.9.7 64-bit ('.dunex-venv': venv)"
  },
  "language_info": {
   "codemirror_mode": {
    "name": "ipython",
    "version": 3
   },
   "file_extension": ".py",
   "mimetype": "text/x-python",
   "name": "python",
   "nbconvert_exporter": "python",
   "pygments_lexer": "ipython3",
   "version": "3.9.7"
  }
 },
 "nbformat": 4,
 "nbformat_minor": 5
}