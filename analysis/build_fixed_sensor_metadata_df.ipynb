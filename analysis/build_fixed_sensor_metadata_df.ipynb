{
 "cells": [
  {
   "cell_type": "code",
   "execution_count": 1,
   "metadata": {},
   "outputs": [],
   "source": [
    "import cftime\n",
    "import glob\n",
    "import pandas as pd\n",
    "import matplotlib.pyplot as plt\n",
    "import netCDF4 as nc\n",
    "import numpy as np\n",
    "from scipy import stats\n",
    "\n",
    "import mission_tools\n",
    "\n",
    "%load_ext autoreload\n",
    "%autoreload 2\n",
    "%matplotlib widget"
   ]
  },
  {
   "cell_type": "code",
   "execution_count": 4,
   "metadata": {},
   "outputs": [
    {
     "data": {
      "text/html": [
       "<div>\n",
       "<style scoped>\n",
       "    .dataframe tbody tr th:only-of-type {\n",
       "        vertical-align: middle;\n",
       "    }\n",
       "\n",
       "    .dataframe tbody tr th {\n",
       "        vertical-align: top;\n",
       "    }\n",
       "\n",
       "    .dataframe thead th {\n",
       "        text-align: right;\n",
       "    }\n",
       "</style>\n",
       "<table border=\"1\" class=\"dataframe\">\n",
       "  <thead>\n",
       "    <tr style=\"text-align: right;\">\n",
       "      <th></th>\n",
       "      <th>sensor name</th>\n",
       "      <th>xFRF [m]</th>\n",
       "      <th>yFRF [m]</th>\n",
       "    </tr>\n",
       "  </thead>\n",
       "  <tbody>\n",
       "    <tr>\n",
       "      <th>0</th>\n",
       "      <td>4.5 m awac</td>\n",
       "      <td>397.35</td>\n",
       "      <td>890.98</td>\n",
       "    </tr>\n",
       "    <tr>\n",
       "      <th>1</th>\n",
       "      <td>6 m awac</td>\n",
       "      <td>603.12</td>\n",
       "      <td>886.68</td>\n",
       "    </tr>\n",
       "    <tr>\n",
       "      <th>2</th>\n",
       "      <td>8 m array</td>\n",
       "      <td>914.05</td>\n",
       "      <td>826.08</td>\n",
       "    </tr>\n",
       "    <tr>\n",
       "      <th>3</th>\n",
       "      <td>noaa tide gauge</td>\n",
       "      <td>576.10</td>\n",
       "      <td>460.93</td>\n",
       "    </tr>\n",
       "  </tbody>\n",
       "</table>\n",
       "</div>"
      ],
      "text/plain": [
       "       sensor name  xFRF [m]  yFRF [m]\n",
       "0       4.5 m awac    397.35    890.98\n",
       "1         6 m awac    603.12    886.68\n",
       "2        8 m array    914.05    826.08\n",
       "3  noaa tide gauge    576.10    460.93"
      ]
     },
     "execution_count": 4,
     "metadata": {},
     "output_type": "execute_result"
    }
   ],
   "source": [
    "fixed_sensor_names = ['4.5 m awac', '6 m awac', '8 m array', 'noaa tide gauge']\n",
    "\n",
    "# sensor locations\n",
    "awac4p5m_location = [397.35, 890.98] # Converted from lat lon locations published on FRF data portal\n",
    "awac6m_location = [603.12, 886.68]   # Converted from lat lon locations published on FRF data portal\n",
    "array8m_location = [914.05, 826.08]  # Nominal location based on published data even though this array has multiple locations\n",
    "noaa_tide_location = [576.1, 460.93] # Location of the NOAA tide gauge\n",
    "\n",
    "sensor_xFRF = [awac4p5m_location[0], awac6m_location[0], array8m_location[0], noaa_tide_location[0]]\n",
    "sensor_yFRF = [awac4p5m_location[1], awac6m_location[1], array8m_location[1], noaa_tide_location[1]]\n",
    "\n",
    "df = pd.DataFrame(fixed_sensor_names, columns=['sensor name'])\n",
    "df['xFRF [m]'] = sensor_xFRF\n",
    "df['yFRF [m]'] = sensor_yFRF\n",
    "\n",
    "df"
   ]
  },
  {
   "cell_type": "code",
   "execution_count": 5,
   "metadata": {},
   "outputs": [],
   "source": [
    "df.to_csv('../microSWIFT_data/sensor_metadat_df.csv')"
   ]
  },
  {
   "cell_type": "code",
   "execution_count": null,
   "metadata": {},
   "outputs": [],
   "source": []
  }
 ],
 "metadata": {
  "kernelspec": {
   "display_name": "dunex-venv",
   "language": "python",
   "name": "python3"
  },
  "language_info": {
   "codemirror_mode": {
    "name": "ipython",
    "version": 3
   },
   "file_extension": ".py",
   "mimetype": "text/x-python",
   "name": "python",
   "nbconvert_exporter": "python",
   "pygments_lexer": "ipython3",
   "version": "3.11.0"
  },
  "orig_nbformat": 4
 },
 "nbformat": 4,
 "nbformat_minor": 2
}
