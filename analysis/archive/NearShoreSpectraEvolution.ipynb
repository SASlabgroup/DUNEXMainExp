{
 "cells": [
  {
   "cell_type": "markdown",
   "metadata": {},
   "source": [
    "<h1>Evolution of 4.5 m AWAC Spectrum over October</h1>"
   ]
  },
  {
   "cell_type": "code",
   "execution_count": 3,
   "metadata": {},
   "outputs": [],
   "source": [
    "import matplotlib.pyplot as plt\n",
    "import numpy as np\n",
    "import netCDF4 as nc\n",
    "import cftime\n",
    "import matplotlib.animation as animation"
   ]
  },
  {
   "cell_type": "code",
   "execution_count": 2,
   "metadata": {},
   "outputs": [],
   "source": [
    "# Import AWAC data\n",
    "awac_data = nc.Dataset('../microSWIFT_data/FRFdata/FRF-ocean_waves_awac-4.5m_202110.nc')\n",
    "awac_time = cftime.num2pydate(awac_data['time'][:], units=awac_data['time'].units, calendar=awac_data['time'].calendar)"
   ]
  },
  {
   "cell_type": "code",
   "execution_count": null,
   "metadata": {},
   "outputs": [],
   "source": [
    "# Create map of drift tracks for the microSWIFT\n",
    "fig = plt.figure()\n",
    "ax = plt.subplot(1,1,1)\n",
    "\n",
    "def init():\n",
    "    ax.clear()\n",
    "    ax.set_xlabel('FRF X Location [meters]')\n",
    "    ax.set_ylabel('FRF Y Location [meters]')\n",
    "    ax.contourf(xFRF_grid, yFRF_grid, bathy, cmap='gray')\n",
    "\n",
    "def update(index):\n",
    "    ax.clear()\n",
    "    ax.set_xlabel('FRF X Location [meters]')\n",
    "    ax.set_ylabel('FRF Y Location [meters]')\n",
    "    ax.contourf(xFRF_grid, yFRF_grid, bathy, cmap='gray')\n",
    "\n",
    "        # Get list of all microSWIFTs on the mission\n",
    "    microSWIFTs_on_mission = list(mission_dataset.groups.keys())\n",
    "    for microSWIFT in microSWIFTs_on_mission:\n",
    "        ax.plot(mission_dataset[microSWIFT]['xFRF'][0], mission_dataset[microSWIFT]['yFRF'][0], color='r', marker='o')\n",
    "        ax.plot(mission_dataset[microSWIFT]['xFRF'][:index], mission_dataset[microSWIFT]['yFRF'][:index], color='k')\n",
    "        ax.plot(mission_dataset[microSWIFT]['xFRF'][index], mission_dataset[microSWIFT]['yFRF'][index], color='g', marker='o')\n",
    "        ax.set_xlim(0, 250)\n",
    "        ax.set_ylim(330, 430)\n",
    "    \n",
    "    # Add title with time\n",
    "    ax.set_title('Mission {0} - {1}'.format(mission_num, index))\n",
    "\n",
    "# Creating the Animation object\n",
    "data_skip = 15\n",
    "anim = animation.FuncAnimation(fig, update_tracks, frames=np.arange(0, len(time), data_skip), init_func=init_tracks)\n",
    "if filename == None:\n",
    "    filename = 'mission_{}_drift.gif'.format(mission_num)\n",
    "anim.save('../microSWIFT_data/cleanedDataset/Figures/{}'.format(filename), dpi=150, fps=10, writer='pillow')"
   ]
  }
 ],
 "metadata": {
  "kernelspec": {
   "display_name": "Python 3.9.5 ('.dunex-venv': venv)",
   "language": "python",
   "name": "python3"
  },
  "language_info": {
   "codemirror_mode": {
    "name": "ipython",
    "version": 3
   },
   "file_extension": ".py",
   "mimetype": "text/x-python",
   "name": "python",
   "nbconvert_exporter": "python",
   "pygments_lexer": "ipython3",
   "version": "3.9.5"
  },
  "orig_nbformat": 4,
  "vscode": {
   "interpreter": {
    "hash": "21ead43a5f863d30e1329d4a65edabea30e4bd30ad13065e72395964c47c63fb"
   }
  }
 },
 "nbformat": 4,
 "nbformat_minor": 2
}
