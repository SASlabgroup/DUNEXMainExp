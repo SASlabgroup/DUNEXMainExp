{
 "cells": [
  {
   "cell_type": "markdown",
   "metadata": {},
   "source": [
    "<h1>Defining a Grid to Organize Data Into</h1>"
   ]
  },
  {
   "cell_type": "code",
   "execution_count": 7,
   "metadata": {},
   "outputs": [],
   "source": [
    "import numpy as np\n",
    "import matplotlib.pyplot as plt"
   ]
  },
  {
   "cell_type": "code",
   "execution_count": 17,
   "metadata": {},
   "outputs": [
    {
     "name": "stdout",
     "output_type": "stream",
     "text": [
      "(3000, 1100)\n"
     ]
    }
   ],
   "source": [
    "# Define grid resolution\n",
    "x_res = 1 # cross shore direction resolution, units are meters\n",
    "y_res = 1 # along shore direction resolution, units are meters\n",
    "\n",
    "# Define grid edges\n",
    "x_min = -100  # minimum x value\n",
    "x_max = 1000  # maximum x value\n",
    "y_min = -1000 # minimum y value\n",
    "y_max = 2000  # maximum y value\n",
    "\n",
    "# Define x and y grid vectors\n",
    "x_edges = np.arange(x_min, x_max, x_res)\n",
    "y_edges = np.arange(y_min, y_max, y_res)\n",
    "\n",
    "# Create Mesh from vectors\n",
    "x_grid, y_grid = np.meshgrid(x_edges, y_edges)\n",
    "\n",
    "print(x_grid.shape)\n"
   ]
  },
  {
   "cell_type": "code",
   "execution_count": null,
   "metadata": {},
   "outputs": [],
   "source": []
  }
 ],
 "metadata": {
  "interpreter": {
   "hash": "2545e0d8d5a20b228f49f15ee87f8272f4ae50c14021cdf5f22cf378044c2282"
  },
  "kernelspec": {
   "display_name": "Python 3.9.7 64-bit ('.dunex-venv': venv)",
   "language": "python",
   "name": "python3"
  },
  "language_info": {
   "codemirror_mode": {
    "name": "ipython",
    "version": 3
   },
   "file_extension": ".py",
   "mimetype": "text/x-python",
   "name": "python",
   "nbconvert_exporter": "python",
   "pygments_lexer": "ipython3",
   "version": "3.9.7"
  },
  "orig_nbformat": 4
 },
 "nbformat": 4,
 "nbformat_minor": 2
}
