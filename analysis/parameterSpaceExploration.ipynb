{
 "cells": [
  {
   "cell_type": "markdown",
   "metadata": {},
   "source": [
    "<h1>Exploring the Parameter Space Spanned during DUNEX</h1>"
   ]
  },
  {
   "cell_type": "code",
   "execution_count": null,
   "metadata": {},
   "outputs": [],
   "source": [
    "import numpy as np\n",
    "import matplotlib.pyplot as plt "
   ]
  }
 ],
 "metadata": {
  "interpreter": {
   "hash": "2545e0d8d5a20b228f49f15ee87f8272f4ae50c14021cdf5f22cf378044c2282"
  },
  "kernelspec": {
   "display_name": "Python 3.9.7 64-bit ('.dunex-venv': venv)",
   "language": "python",
   "name": "python3"
  },
  "language_info": {
   "name": "python",
   "version": "3.9.7"
  },
  "orig_nbformat": 4
 },
 "nbformat": 4,
 "nbformat_minor": 2
}
